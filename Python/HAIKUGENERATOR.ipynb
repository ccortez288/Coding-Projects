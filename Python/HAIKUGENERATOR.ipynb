{
  "nbformat": 4,
  "nbformat_minor": 0,
  "metadata": {
    "colab": {
      "name": "HAIKUGENERATOR",
      "provenance": []
    },
    "kernelspec": {
      "name": "python3",
      "display_name": "Python 3"
    }
  },
  "cells": [
    {
      "cell_type": "markdown",
      "metadata": {
        "id": "0IOPg0FCRb7d"
      },
      "source": [
        "MIS 515 Homework 2 README File\n",
        "\n",
        "######################################\n",
        "\n",
        "Note about source code file:\n",
        "- My program chooses words randomly generated, not based on score, therefore it sometimes repeats words. I noticed\n",
        "this was happening because some of the words it would randomly choose did not have a word it would rhyme with (from the API). \n",
        "So the helper function would return an empty list, to handle this I made it so that it reuses the same word, rather than\n",
        "breaking the program and not coming up with anything. This was in response to passing certain words to the API, and seeing\n",
        "that for some it did not offer much variety. "
      ]
    },
    {
      "cell_type": "markdown",
      "metadata": {
        "id": "HJLj2dHp3vuV"
      },
      "source": [
        "# **MIS 515 HOMEWORK 2:PREDICTIVE TEXTGENERATION**\n",
        "Your assignment is to use the Datamuse API to generate a predictive text-driven Haiku on a topic of the user’s choice. Your program should first request that the user provide a topic to begin the Haiku generation. Then, your program should connect to the Datamuse API to find related words that satisfy the requirements of a Haiku (described below). Print your completed Haiku for the user to enjoy. Finally, your program should allow the user to generate as many Haikus as desired.For the purposes of this assignment, the requirements of Haikus are:\n",
        "\n",
        "- A Haiku is a3-line poem, where the first line contains 5 syllables, the second line contains 7 syllables, and the third line contains 5 syllables.\n",
        "\n",
        "- The last words of each line in the Haiku must rhyme.\n",
        "\n",
        "- A Haiku may not use the same word more than once."
      ]
    },
    {
      "cell_type": "markdown",
      "metadata": {
        "id": "pndSYUFd4vYw"
      },
      "source": [
        "Sample Output:\n",
        "\n",
        "Hello, welcome to the predictive text Haiku generator!\n",
        "\n",
        "What would you like to see a Haiku about?teeth\n",
        "\n",
        "<Response [200]>\n",
        "\n",
        "absent incisors\n",
        "\n",
        "claws neck itemizers\n",
        "\n",
        "maxillary synthesizers.\n",
        "\n",
        "Would you like to see another Haiku (yes/no)?yes\n",
        "\n",
        "What would you like to see a Haiku about?smell\n",
        "\n",
        "<Response [200]>\n",
        "\n",
        "Could not find rhyme, will use same word.\n",
        "\n",
        "Could not find rhyme, will use same word.\n",
        "\n",
        "hearing olfaction\n",
        "\n",
        "skin nasal olfaction\n",
        "\n",
        "anosmia olfaction.\n",
        "\n",
        "Would you like to see another Haiku (yes/no)?yes\n",
        "\n",
        "What would you like to see a Haiku about?kindness\n",
        "\n",
        "<Response [200]>\n",
        "\n",
        "Could not find rhyme, will use same word.\n",
        "\n",
        "priming gentleness\n",
        "\n",
        "evil patience when illness\n",
        "\n",
        "gentleness when illness.\n",
        "\n",
        "Would you like to see another Haiku (yes/no)?no\n",
        "\n",
        "Program Closed\n"
      ]
    },
    {
      "cell_type": "code",
      "metadata": {
        "id": "uUcFJm7HJb3N"
      },
      "source": [
        "import random, requests, json\n",
        "\n",
        "#HAIKU CREATOR FUNCTION \n",
        "def haiku_creator(word):\n",
        "  api_url = 'https://api.datamuse.com/words?md=s&rel_trg='\n",
        "  full_url = api_url + word\n",
        "  response = requests.get(full_url)\n",
        "  haiku_created = [0] * 3\n",
        "  print(response)\n",
        "\n",
        "  word1 = ''\n",
        "  word2 = ''\n",
        "  word3 = ''\n",
        "  word4 = ''\n",
        "  word5 = ''\n",
        "  word6 = ''\n",
        "  word7 = ''\n",
        "\n",
        "\n",
        "  if response:\n",
        "    data = json.loads(response.text)\n",
        "  else:\n",
        "    print('Error')\n",
        "\n",
        "  #FIRST LINE\n",
        "  num = random.randint(0,len(data))\n",
        "  word1 = data[num]['word']\n",
        "  sylls = data[num]['numSyllables']\n",
        "  numSylls = 0\n",
        "  for i in range(len(data)):\n",
        "    if data[i]['numSyllables'] == (5 - sylls) and data[i]['word'] not in haiku_created:\n",
        "      word2 = data[i]['word']\n",
        "      numSylls = data[i]['numSyllables']\n",
        "      break\n",
        "  word1.capitalize()\n",
        "  haiku_created[0] = word1 + ' ' + word2\n",
        "\n",
        "  #SECOND LINE\n",
        "  if rhyme(word2) == 0:\n",
        "   word5sylls = numSylls\n",
        "   word5 = word2 \n",
        "  else:\n",
        "    arr = rhyme(word2)\n",
        "    word5sylls = arr[1]\n",
        "    word5 = arr[0]\n",
        "  \n",
        "\n",
        "  flag = True\n",
        "  while flag:\n",
        "    num = random.randint(0,len(data))\n",
        "    num2 = random.randint(0,len(data))\n",
        "    word = data[num]['word']\n",
        "    sylls = data[num]['numSyllables']\n",
        "    word2 = data[num2]['word']\n",
        "    sylls2 = data[num2]['numSyllables']\n",
        "    if sylls + sylls2 < 5 and data[i]['word'] not in haiku_created :\n",
        "      word3 = word\n",
        "      word4 = word2\n",
        "      flag = False\n",
        "  haiku_created[1] = word3 + ' ' + word4 + ' ' + word5\n",
        "\n",
        "  #THIRD LINE\n",
        "  if rhyme(word5) == 0:\n",
        "    sylls3 = word5sylls\n",
        "    word7 = word5\n",
        "  else:\n",
        "    arr2 = rhyme(word5)\n",
        "    word7 = arr2[0]\n",
        "    sylls3 = arr2[1] \n",
        "\n",
        " \n",
        "\n",
        "  for i in range(len(data)):\n",
        "    if data[i]['numSyllables'] == (5 - sylls) and data[i]['word'] not in haiku_created:\n",
        "      word6 = data[i]['word']\n",
        "      break\n",
        "  haiku_created[2] = word6 + ' ' + word7 + '.'\n",
        "  #FULL HAIKU\n",
        "  for i in range(len(haiku_created)):\n",
        "    print(haiku_created[i])\n",
        "\n",
        "\n",
        "  "
      ],
      "execution_count": null,
      "outputs": []
    },
    {
      "cell_type": "code",
      "metadata": {
        "colab": {
          "base_uri": "https://localhost:8080/"
        },
        "id": "8x3LkF560zc6",
        "outputId": "8f7d6cdf-8655-4af4-fabd-a3b3bbf557f3"
      },
      "source": [
        "import random, requests, json\n",
        "\n",
        "print('Hello, welcome to the predictive text Haiku generator!')\n",
        "choice = True\n",
        "while choice == True:\n",
        "  word_input = input('What would you like to see a Haiku about?')\n",
        "  haiku_creator(word_input)\n",
        "  choice_input = input('Would you like to see another Haiku (yes/no)?')\n",
        "  if choice_input.lower() == 'yes':\n",
        "    choice = True\n",
        "  else:\n",
        "    choice = False\n",
        "\n",
        "print('Program Closed')\n"
      ],
      "execution_count": null,
      "outputs": [
        {
          "output_type": "stream",
          "text": [
            "Hello, welcome to the predictive text Haiku generator!\n",
            "What would you like to see a Haiku about?food\n",
            "<Response [200]>\n",
            "healthy beverage\n",
            "chicken chains beveridge\n",
            "beverage beverage.\n",
            "Would you like to see another Haiku (yes/no)?yes\n",
            "What would you like to see a Haiku about?teeth\n",
            "<Response [200]>\n",
            "maxilla erupt\n",
            "pairs molar crypt-\n",
            "maxillary abrupt.\n",
            "Would you like to see another Haiku (yes/no)?yes\n"
          ],
          "name": "stdout"
        }
      ]
    }
  ]
}